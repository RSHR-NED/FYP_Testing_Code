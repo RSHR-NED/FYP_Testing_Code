{
  "nbformat": 4,
  "nbformat_minor": 0,
  "metadata": {
    "colab": {
      "provenance": []
    },
    "kernelspec": {
      "name": "python3",
      "display_name": "Python 3"
    },
    "language_info": {
      "name": "python"
    },
    "accelerator": "GPU",
    "gpuClass": "standard"
  },
  "cells": [
    {
      "cell_type": "markdown",
      "source": [
        "## Load Data"
      ],
      "metadata": {
        "id": "OamN8IBktMWV"
      }
    },
    {
      "cell_type": "code",
      "source": [
        "import json\n",
        "import numpy as np\n",
        "from sklearn.model_selection import train_test_split\n",
        "import matplotlib.pyplot as plt\n",
        "import tensorflow.keras as keras\n",
        "\n",
        "# path to json file that stores MFCCs and genre labels for each processed segment\n",
        "DATA_PATH = \"/content/drive/MyDrive/FYP-Code/data_surah_1_spect.json\"\n",
        "\n",
        "def load_data(data_path):\n",
        "    \"\"\"Loads training dataset from json file.\n",
        "        :param data_path (str): Path to json file containing data\n",
        "        :return X (ndarray): Inputs\n",
        "        :return y (ndarray): Targets\n",
        "    \"\"\"\n",
        "\n",
        "    with open(data_path, \"r\") as fp:\n",
        "        data = json.load(fp)\n",
        "\n",
        "    # convert lists to numpy arrays\n",
        "    X = np.array(data[\"mfcc\"])\n",
        "    y = np.array(data[\"labels\"])\n",
        "\n",
        "    print(\"Data succesfully loaded!\")\n",
        "\n",
        "    return  X, y\n"
      ],
      "metadata": {
        "id": "1unMn2N0tQoC"
      },
      "execution_count": 3,
      "outputs": []
    },
    {
      "cell_type": "markdown",
      "source": [
        "# Plot History"
      ],
      "metadata": {
        "id": "VwHjSamytRI5"
      }
    },
    {
      "cell_type": "code",
      "source": [
        "def plot_history(history):\n",
        "    \"\"\"Plots accuracy/loss for training/validation set as a function of the epochs\n",
        "        :param history: Training history of model\n",
        "        :return:\n",
        "    \"\"\"\n",
        "\n",
        "    fig, axs = plt.subplots(2)\n",
        "\n",
        "    # create accuracy sublpot\n",
        "    axs[0].plot(history.history[\"accuracy\"], label=\"train accuracy\")\n",
        "    axs[0].plot(history.history[\"val_accuracy\"], label=\"test accuracy\")\n",
        "    axs[0].set_ylabel(\"Accuracy\")\n",
        "    axs[0].legend(loc=\"lower right\")\n",
        "    axs[0].set_title(\"Accuracy eval\")\n",
        "\n",
        "    # create error sublpot\n",
        "    axs[1].plot(history.history[\"loss\"], label=\"train error\")\n",
        "    axs[1].plot(history.history[\"val_loss\"], label=\"test error\")\n",
        "    axs[1].set_ylabel(\"Error\")\n",
        "    axs[1].set_xlabel(\"Epoch\")\n",
        "    axs[1].legend(loc=\"upper right\")\n",
        "    axs[1].set_title(\"Error eval\")\n",
        "\n",
        "    plt.show()"
      ],
      "metadata": {
        "id": "oKL4Uj0gtU9I"
      },
      "execution_count": 4,
      "outputs": []
    },
    {
      "cell_type": "markdown",
      "source": [
        "# Prepare Dataset"
      ],
      "metadata": {
        "id": "tOyNPDr89Etk"
      }
    },
    {
      "cell_type": "code",
      "source": [
        "def prepare_datasets(test_size, validation_size):\n",
        "    \"\"\"Loads data and splits it into train, validation and test sets.\n",
        "    :param test_size (float): Value in [0, 1] indicating percentage of data set to allocate to test split\n",
        "    :param validation_size (float): Value in [0, 1] indicating percentage of train set to allocate to validation split\n",
        "    :return X_train (ndarray): Input training set\n",
        "    :return X_validation (ndarray): Input validation set\n",
        "    :return X_test (ndarray): Input test set\n",
        "    :return y_train (ndarray): Target training set\n",
        "    :return y_validation (ndarray): Target validation set\n",
        "    :return y_test (ndarray): Target test set\n",
        "    \"\"\"\n",
        "\n",
        "    # load data\n",
        "    X, y = load_data(DATA_PATH)\n",
        "\n",
        "    # create train, validation and test split\n",
        "    X_train, X_test, y_train, y_test = train_test_split(X, y, test_size=test_size)\n",
        "    X_train, X_validation, y_train, y_validation = train_test_split(X_train, y_train, test_size=validation_size)\n",
        "\n",
        "    # add an axis to input sets\n",
        "    X_train = X_train[..., np.newaxis]\n",
        "    X_validation = X_validation[..., np.newaxis]\n",
        "    X_test = X_test[..., np.newaxis]\n",
        "\n",
        "    return X_train, X_validation, X_test, y_train, y_validation, y_test\n"
      ],
      "metadata": {
        "id": "I98RRteJ3kCt"
      },
      "execution_count": 5,
      "outputs": []
    },
    {
      "cell_type": "markdown",
      "source": [
        "# Build Model"
      ],
      "metadata": {
        "id": "9T6b2ia29OGX"
      }
    },
    {
      "cell_type": "code",
      "source": [
        "def build_model(input_shape):\n",
        "    \"\"\"Generates CNN model\n",
        "    :param input_shape (tuple): Shape of input set\n",
        "    :return model: CNN model\n",
        "    \"\"\"\n",
        "\n",
        "    # build network topology\n",
        "    model = keras.Sequential()\n",
        "\n",
        "    # 1st conv layer\n",
        "    model.add(keras.layers.Conv2D(32, (3, 3), activation='relu', input_shape=input_shape))\n",
        "    model.add(keras.layers.MaxPooling2D((3, 3), strides=(2, 2), padding='same'))\n",
        "    model.add(keras.layers.BatchNormalization())\n",
        "\n",
        "    # 2nd conv layer\n",
        "    model.add(keras.layers.Conv2D(64, (3, 3), activation='relu'))\n",
        "    model.add(keras.layers.MaxPooling2D((3, 3), strides=(2, 2), padding='same'))\n",
        "    model.add(keras.layers.BatchNormalization())\n",
        "\n",
        "    # # 3rd conv layer\n",
        "    # model.add(keras.layers.Conv2D(128, (2, 2), activation='relu'))\n",
        "    # model.add(keras.layers.MaxPooling2D((2, 2), strides=(2, 2), padding='same'))\n",
        "    # model.add(keras.layers.BatchNormalization())\n",
        "\n",
        "    # flatten output and feed it into dense layer\n",
        "    model.add(keras.layers.Flatten())\n",
        "    model.add(keras.layers.Dense(256, activation='relu'))\n",
        "    model.add(keras.layers.Dropout(0.2))\n",
        "\n",
        "    # output layer\n",
        "    model.add(keras.layers.Dense(28, activation='softmax'))\n",
        "\n",
        "    return model"
      ],
      "metadata": {
        "id": "D4mdf_k36O_V"
      },
      "execution_count": 6,
      "outputs": []
    },
    {
      "cell_type": "code",
      "source": [
        "def predict(model, X, y):\n",
        "    \"\"\"Predict a single sample using the trained model\n",
        "    :param model: Trained classifier\n",
        "    :param X: Input data\n",
        "    :param y (int): Target\n",
        "    \"\"\"\n",
        "\n",
        "    # add a dimension to input data for sample - model.predict() expects a 4d array in this case\n",
        "    X = X[np.newaxis, ...] # array shape (1, 130, 13, 1)\n",
        "\n",
        "    # perform prediction\n",
        "    prediction = model.predict(X)\n",
        "\n",
        "    # get index with max value\n",
        "    predicted_index = np.argmax(prediction, axis=1)\n",
        "\n",
        "    print(\"Target: {}, Predicted label: {}\".format(y, predicted_index))\n"
      ],
      "metadata": {
        "id": "XvcSJBv59S7z"
      },
      "execution_count": 7,
      "outputs": []
    },
    {
      "cell_type": "code",
      "source": [
        "if __name__ == \"__main__\":\n",
        "\n",
        "    # get train, validation, test splits\n",
        "    X_train, X_validation, X_test, y_train, y_validation, y_test = prepare_datasets(0.25, 0.2)\n",
        "    # create network\n",
        "    input_shape = (X_train.shape[1], X_train.shape[2], 1)\n",
        "    model = build_model(input_shape)\n",
        "\n",
        "    # compile model\n",
        "    optimiser = keras.optimizers.Adam(learning_rate=0.0001)\n",
        "    model.compile(optimizer=optimiser,\n",
        "                  loss='sparse_categorical_crossentropy',\n",
        "                  metrics=['accuracy'])\n",
        "\n",
        "    model.summary()\n",
        "\n",
        "    # train model\n",
        "    history = model.fit(X_train, y_train, validation_data=(X_validation, y_validation), batch_size=32, epochs=40)\n",
        "\n",
        "    # plot accuracy/error for training and validation\n",
        "    plot_history(history)\n",
        "\n",
        "    # evaluate model on test set\n",
        "    test_loss, test_acc = model.evaluate(X_test, y_test, verbose=2)\n",
        "    print('\\nTest accuracy:', test_acc)\n",
        "\n",
        "    # pick a sample to predict from the test set\n",
        "    X_to_predict = X_test[100]\n",
        "    y_to_predict = y_test[100]\n",
        "\n",
        "    # predict sample\n",
        "    predict(model, X_to_predict, y_to_predict)\n"
      ],
      "metadata": {
        "colab": {
          "base_uri": "https://localhost:8080/",
          "height": 1000
        },
        "id": "SFPlVTH-9Vce",
        "outputId": "1f719d87-cf65-451e-e099-94ca90230afd"
      },
      "execution_count": 8,
      "outputs": [
        {
          "output_type": "stream",
          "name": "stdout",
          "text": [
            "Data succesfully loaded!\n",
            "Model: \"sequential\"\n",
            "_________________________________________________________________\n",
            " Layer (type)                Output Shape              Param #   \n",
            "=================================================================\n",
            " conv2d (Conv2D)             (None, 7, 11, 32)         320       \n",
            "                                                                 \n",
            " max_pooling2d (MaxPooling2D  (None, 4, 6, 32)         0         \n",
            " )                                                               \n",
            "                                                                 \n",
            " batch_normalization (BatchN  (None, 4, 6, 32)         128       \n",
            " ormalization)                                                   \n",
            "                                                                 \n",
            " conv2d_1 (Conv2D)           (None, 2, 4, 64)          18496     \n",
            "                                                                 \n",
            " max_pooling2d_1 (MaxPooling  (None, 1, 2, 64)         0         \n",
            " 2D)                                                             \n",
            "                                                                 \n",
            " batch_normalization_1 (Batc  (None, 1, 2, 64)         256       \n",
            " hNormalization)                                                 \n",
            "                                                                 \n",
            " flatten (Flatten)           (None, 128)               0         \n",
            "                                                                 \n",
            " dense (Dense)               (None, 256)               33024     \n",
            "                                                                 \n",
            " dropout (Dropout)           (None, 256)               0         \n",
            "                                                                 \n",
            " dense_1 (Dense)             (None, 28)                7196      \n",
            "                                                                 \n",
            "=================================================================\n",
            "Total params: 59,420\n",
            "Trainable params: 59,228\n",
            "Non-trainable params: 192\n",
            "_________________________________________________________________\n",
            "Epoch 1/40\n",
            "2102/2102 [==============================] - 22s 5ms/step - loss: 2.8010 - accuracy: 0.1800 - val_loss: 2.4334 - val_accuracy: 0.2719\n",
            "Epoch 2/40\n",
            "2102/2102 [==============================] - 11s 5ms/step - loss: 2.3686 - accuracy: 0.2812 - val_loss: 2.1117 - val_accuracy: 0.3670\n",
            "Epoch 3/40\n",
            "2102/2102 [==============================] - 11s 5ms/step - loss: 2.1102 - accuracy: 0.3518 - val_loss: 1.8676 - val_accuracy: 0.4329\n",
            "Epoch 4/40\n",
            "2102/2102 [==============================] - 11s 5ms/step - loss: 1.9130 - accuracy: 0.4054 - val_loss: 1.6965 - val_accuracy: 0.4972\n",
            "Epoch 5/40\n",
            "2102/2102 [==============================] - 10s 5ms/step - loss: 1.7595 - accuracy: 0.4495 - val_loss: 1.5529 - val_accuracy: 0.5308\n",
            "Epoch 6/40\n",
            "2102/2102 [==============================] - 11s 5ms/step - loss: 1.6241 - accuracy: 0.4911 - val_loss: 1.4125 - val_accuracy: 0.5822\n",
            "Epoch 7/40\n",
            "2102/2102 [==============================] - 11s 5ms/step - loss: 1.5137 - accuracy: 0.5247 - val_loss: 1.3161 - val_accuracy: 0.6085\n",
            "Epoch 8/40\n",
            "2102/2102 [==============================] - 11s 5ms/step - loss: 1.4155 - accuracy: 0.5530 - val_loss: 1.2115 - val_accuracy: 0.6411\n",
            "Epoch 9/40\n",
            "2102/2102 [==============================] - 12s 6ms/step - loss: 1.3365 - accuracy: 0.5803 - val_loss: 1.1476 - val_accuracy: 0.6612\n",
            "Epoch 10/40\n",
            "2102/2102 [==============================] - 10s 5ms/step - loss: 1.2576 - accuracy: 0.6028 - val_loss: 1.0723 - val_accuracy: 0.6841\n",
            "Epoch 11/40\n",
            "2102/2102 [==============================] - 10s 5ms/step - loss: 1.1907 - accuracy: 0.6247 - val_loss: 1.0085 - val_accuracy: 0.7075\n",
            "Epoch 12/40\n",
            "2102/2102 [==============================] - 11s 5ms/step - loss: 1.1278 - accuracy: 0.6444 - val_loss: 0.9639 - val_accuracy: 0.7173\n",
            "Epoch 13/40\n",
            "2102/2102 [==============================] - 11s 5ms/step - loss: 1.0770 - accuracy: 0.6589 - val_loss: 0.9144 - val_accuracy: 0.7278\n",
            "Epoch 14/40\n",
            "2102/2102 [==============================] - 11s 5ms/step - loss: 1.0286 - accuracy: 0.6728 - val_loss: 0.8651 - val_accuracy: 0.7456\n",
            "Epoch 15/40\n",
            "2102/2102 [==============================] - 10s 5ms/step - loss: 0.9852 - accuracy: 0.6881 - val_loss: 0.8204 - val_accuracy: 0.7574\n",
            "Epoch 16/40\n",
            "2102/2102 [==============================] - 11s 5ms/step - loss: 0.9499 - accuracy: 0.6981 - val_loss: 0.7746 - val_accuracy: 0.7705\n",
            "Epoch 17/40\n",
            "2102/2102 [==============================] - 11s 5ms/step - loss: 0.9108 - accuracy: 0.7094 - val_loss: 0.7318 - val_accuracy: 0.7870\n",
            "Epoch 18/40\n",
            "2102/2102 [==============================] - 11s 5ms/step - loss: 0.8790 - accuracy: 0.7232 - val_loss: 0.7050 - val_accuracy: 0.7944\n",
            "Epoch 19/40\n",
            "2102/2102 [==============================] - 10s 5ms/step - loss: 0.8445 - accuracy: 0.7312 - val_loss: 0.6732 - val_accuracy: 0.7991\n",
            "Epoch 20/40\n",
            "2102/2102 [==============================] - 10s 5ms/step - loss: 0.8177 - accuracy: 0.7377 - val_loss: 0.6592 - val_accuracy: 0.8077\n",
            "Epoch 21/40\n",
            "2102/2102 [==============================] - 12s 6ms/step - loss: 0.7860 - accuracy: 0.7507 - val_loss: 0.6292 - val_accuracy: 0.8194\n",
            "Epoch 22/40\n",
            "2102/2102 [==============================] - 11s 5ms/step - loss: 0.7638 - accuracy: 0.7562 - val_loss: 0.6163 - val_accuracy: 0.8199\n",
            "Epoch 23/40\n",
            "2102/2102 [==============================] - 11s 5ms/step - loss: 0.7423 - accuracy: 0.7627 - val_loss: 0.5929 - val_accuracy: 0.8281\n",
            "Epoch 24/40\n",
            "2102/2102 [==============================] - 12s 6ms/step - loss: 0.7253 - accuracy: 0.7664 - val_loss: 0.5613 - val_accuracy: 0.8410\n",
            "Epoch 25/40\n",
            "2102/2102 [==============================] - 11s 5ms/step - loss: 0.7024 - accuracy: 0.7737 - val_loss: 0.5471 - val_accuracy: 0.8446\n",
            "Epoch 26/40\n",
            "2102/2102 [==============================] - 10s 5ms/step - loss: 0.6763 - accuracy: 0.7829 - val_loss: 0.5192 - val_accuracy: 0.8520\n",
            "Epoch 27/40\n",
            "2102/2102 [==============================] - 11s 5ms/step - loss: 0.6667 - accuracy: 0.7855 - val_loss: 0.5156 - val_accuracy: 0.8527\n",
            "Epoch 28/40\n",
            "2102/2102 [==============================] - 10s 5ms/step - loss: 0.6465 - accuracy: 0.7910 - val_loss: 0.5197 - val_accuracy: 0.8466\n",
            "Epoch 29/40\n",
            "2102/2102 [==============================] - 11s 5ms/step - loss: 0.6303 - accuracy: 0.7981 - val_loss: 0.4960 - val_accuracy: 0.8596\n",
            "Epoch 30/40\n",
            "2102/2102 [==============================] - 11s 5ms/step - loss: 0.6225 - accuracy: 0.8011 - val_loss: 0.4721 - val_accuracy: 0.8640\n",
            "Epoch 31/40\n",
            "2102/2102 [==============================] - 11s 5ms/step - loss: 0.6037 - accuracy: 0.8068 - val_loss: 0.4639 - val_accuracy: 0.8658\n",
            "Epoch 32/40\n",
            "2102/2102 [==============================] - 10s 5ms/step - loss: 0.5968 - accuracy: 0.8081 - val_loss: 0.4420 - val_accuracy: 0.8709\n",
            "Epoch 33/40\n",
            "2102/2102 [==============================] - 11s 5ms/step - loss: 0.5794 - accuracy: 0.8128 - val_loss: 0.4471 - val_accuracy: 0.8709\n",
            "Epoch 34/40\n",
            "2102/2102 [==============================] - 11s 5ms/step - loss: 0.5667 - accuracy: 0.8191 - val_loss: 0.4349 - val_accuracy: 0.8756\n",
            "Epoch 35/40\n",
            "2102/2102 [==============================] - 11s 5ms/step - loss: 0.5594 - accuracy: 0.8212 - val_loss: 0.4220 - val_accuracy: 0.8788\n",
            "Epoch 36/40\n",
            "2102/2102 [==============================] - 11s 5ms/step - loss: 0.5467 - accuracy: 0.8236 - val_loss: 0.4068 - val_accuracy: 0.8834\n",
            "Epoch 37/40\n",
            "2102/2102 [==============================] - 11s 5ms/step - loss: 0.5340 - accuracy: 0.8253 - val_loss: 0.4171 - val_accuracy: 0.8778\n",
            "Epoch 38/40\n",
            "2102/2102 [==============================] - 10s 5ms/step - loss: 0.5281 - accuracy: 0.8290 - val_loss: 0.3916 - val_accuracy: 0.8895\n",
            "Epoch 39/40\n",
            "2102/2102 [==============================] - 11s 5ms/step - loss: 0.5197 - accuracy: 0.8317 - val_loss: 0.3893 - val_accuracy: 0.8904\n",
            "Epoch 40/40\n",
            "2102/2102 [==============================] - 11s 5ms/step - loss: 0.5071 - accuracy: 0.8370 - val_loss: 0.3833 - val_accuracy: 0.8913\n"
          ]
        },
        {
          "output_type": "display_data",
          "data": {
            "text/plain": [
              "<Figure size 432x288 with 2 Axes>"
            ],
            "image/png": "[encoded data removed]"
          },
          "metadata": {
            "needs_background": "light"
          }
        },
        {
          "output_type": "stream",
          "name": "stdout",
          "text": [
            "876/876 - 2s - loss: 0.3865 - accuracy: 0.8894 - 2s/epoch - 2ms/step\n",
            "\n",
            "Test accuracy: 0.8894400596618652\n",
            "1/1 [==============================] - 0s 166ms/step\n",
            "Target: 22, Predicted label: [22]\n"
          ]
        }
      ]
    },
    {
      "cell_type": "code",
      "source": [
        "SAVED_MODEL_PATH = \"model.h5\"\n",
        "model.save(SAVED_MODEL_PATH)\n"
      ],
      "metadata": {
        "id": "BTD9uMSvNR9a"
      },
      "execution_count": null,
      "outputs": []
    },
    {
      "cell_type": "code",
      "source": [
        "import pandas as pd"
      ],
      "metadata": {
        "id": "OV5zC4cn9apU"
      },
      "execution_count": null,
      "outputs": []
    },
    {
      "cell_type": "code",
      "source": [
        "from google.colab import drive\n",
        "drive.mount('/content/drive')"
      ],
      "metadata": {
        "colab": {
          "base_uri": "https://localhost:8080/"
        },
        "id": "fz_KerExDf6h",
        "outputId": "974babcc-48ef-4091-9c48-f888e080ac02"
      },
      "execution_count": 1,
      "outputs": [
        {
          "output_type": "stream",
          "name": "stdout",
          "text": [
            "Mounted at /content/drive\n"
          ]
        }
      ]
    },
    {
      "cell_type": "code",
      "source": [
        "_mapping = {\n",
        "    1:\"Bis'mi\",\n",
        "    2:\"Al-lahi\",\n",
        "    3:\"Al-rahmaani\",\n",
        "    4:\"Al-raheemi\",\n",
        "    5:\"Alhamdu\",\n",
        "    6:\"lillaahi\",\n",
        "    7:\"Rabbil\",\n",
        "    8:\"aalameen\",\n",
        "    9:\"Ar-Rahmaan\",\n",
        "    10:\"Ar-Raheem\",\n",
        "    11:\"Maaliki\",\n",
        "    12:\"Yumid\",\n",
        "    13:\"Diin\",\n",
        "    14:\"Iyyaka\",\n",
        "    15:\"Na'abudu\",\n",
        "    16:\"Iyyaka\",\n",
        "    17:\"Nasta'een\",\n",
        "    18:\"Ihdinas\",\n",
        "    19:\"Siraatal\",\n",
        "    20:\"Mustaqeem\",\n",
        "    21:\"Siraatal\",\n",
        "    22:\"Ladheena\",\n",
        "    23:\"An'amta\",\n",
        "    24:\"Alaihim\",\n",
        "    25:\"Ghayril\",\n",
        "    26:\"Maghdubi\",\n",
        "    27:\"Alaihim\",\n",
        "    28:\"Wala al-dalina\"}"
      ],
      "metadata": {
        "id": "FfMiG8AIm7Zp"
      },
      "execution_count": null,
      "outputs": []
    },
    {
      "cell_type": "code",
      "source": [
        "SAMPLE_RATE = 22050\n",
        "TRACK_DURATION = 2 # measured in seconds\n",
        "SAMPLES_PER_TRACK = SAMPLE_RATE * TRACK_DURATION\n",
        "file = '/content/003.wav'\n",
        "\n",
        "def save_mfcc(file_path, json_path, num_mfcc=13, n_fft=2048, hop_length=512, num_segments=5):\n",
        "    mfcc_lst = []\n",
        "    # we divide the track into 5 segments\n",
        "    # to calculate sample per segment - we need to know the number of samples per track (which is the sample rate * the track duration )\n",
        "    samples_per_segment = int(SAMPLES_PER_TRACK / num_segments)\n",
        "    num_mfcc_vectors_per_segment = math.ceil(samples_per_segment / hop_length)\n",
        "\n",
        "    signal, sample_rate = librosa.load(file_path, sr=SAMPLE_RATE)\n",
        "\n",
        "    # process all segments of audio file\n",
        "    for d in range(num_segments):\n",
        "\n",
        "        # calculate start and finish sample for current segment\n",
        "        start = samples_per_segment * d\n",
        "        finish = start + samples_per_segment\n",
        "\n",
        "        # extract mfcc - for each segment of signal\n",
        "        mfcc = librosa.feature.mfcc(signal[start:finish], sample_rate, n_mfcc=num_mfcc, n_fft=n_fft, hop_length=hop_length)\n",
        "        mfcc = mfcc.T\n",
        "\n",
        "        # store only mfcc feature with expected number of vectors\n",
        "        if len(mfcc) == num_mfcc_vectors_per_segment:\n",
        "            mfcc_lst.append(mfcc.tolist())\n",
        "    return mfcc_lst"
      ],
      "metadata": {
        "id": "Be0D-fewPUFg"
      },
      "execution_count": null,
      "outputs": []
    },
    {
      "cell_type": "code",
      "source": [],
      "metadata": {
        "id": "aUqQBLldslyj"
      },
      "execution_count": null,
      "outputs": []
    },
    {
      "cell_type": "code",
      "source": [
        "import librosa\n",
        "import tensorflow as tf\n",
        "import numpy as np\n",
        "import math\n",
        "SAVED_MODEL_PATH = \"model.h5\"\n",
        "SAMPLE_RATE = 22050\n",
        "TRACK_DURATION = 2 # measured in seconds\n",
        "SAMPLES_PER_TRACK = SAMPLE_RATE * TRACK_DURATION\n",
        "\n",
        "class _Keyword_Spotting_Service:\n",
        "    \"\"\"Singleton class for keyword spotting inference with trained models.\n",
        "\n",
        "    :param model: Trained model\n",
        "    \"\"\"\n",
        "    \n",
        "    model = None\n",
        "    _mapping = [\n",
        "    \"Bis'mi\",\n",
        "    \"Al-lahi\",\n",
        "    \"Al-rahmaani\",\n",
        "    \"Al-raheemi\",\n",
        "    \"Alhamdu\",\n",
        "    \"lillaahi\",\n",
        "    \"Rabbil\",\n",
        "    \"aalameen\",\n",
        "    \"Ar-Rahmaan\",\n",
        "    \"Ar-Raheem\",\n",
        "    \"Maaliki\",\n",
        "    \"Yumid\",\n",
        "    \"Diin\",\n",
        "    \"Iyyaka\",\n",
        "    \"Na'abudu\",\n",
        "    \"Iyyaka\",\n",
        "    \"Nasta'een\",\n",
        "    \"Ihdinas\",\n",
        "    \"Siraatal\",\n",
        "    \"Mustaqeem\",\n",
        "    \"Siraatal\",\n",
        "    \"Ladheena\",\n",
        "    \"An'amta\",\n",
        "    \"Alaihim\",\n",
        "    \"Ghayril\",\n",
        "    \"Maghdubi\",\n",
        "    \"Alaihim\",\n",
        "    \"Wala al-dalina\"\n",
        "    ]\n",
        "    _instance = None\n",
        "\n",
        "\n",
        "    def predict(self, file_path):\n",
        "        \"\"\"\n",
        "\n",
        "        :param file_path (str): Path to audio file to predict\n",
        "        :return predicted_keyword (str): Keyword predicted by the model\n",
        "        \"\"\"\n",
        "\n",
        "        # extract MFCC\n",
        "        MFCCs = np.array([[-208.88369750976562, 173.29107666015625, -13.837435722351074, 14.191682815551758, -63.53321838378906, 9.908905029296875, -34.52302932739258, -7.0630083084106445, -11.072137832641602, 7.897786617279053, 12.635082244873047, -1.260940670967102, -14.440847396850586], [-175.98480224609375, 167.88204956054688, -30.289634704589844, 16.558849334716797, -79.59504699707031, 20.788333892822266, -40.25474548339844, -13.491707801818848, -13.442451477050781, 3.592095375061035, 10.45197868347168, -4.956630706787109, -13.133575439453125], [-177.2965545654297, 140.26446533203125, -42.05194091796875, 15.591264724731445, -79.16682434082031, 35.215572357177734, -48.15814971923828, -7.50286865234375, -7.240591049194336, 2.553539276123047, 9.138029098510742, -3.4423742294311523, -6.37964391708374], [-185.95509338378906, 124.90979766845703, -38.33936309814453, 22.440292358398438, -72.64540100097656, 47.9068717956543, -48.2619514465332, 1.8480926752090454, -3.999704360961914, -0.6501009464263916, 5.425509929656982, -6.084258079528809, -1.652677059173584], [-208.18551635742188, 112.87013244628906, -27.377513885498047, 31.67277717590332, -69.78677368164062, 45.79389953613281, -52.503211975097656, 0.9649603962898254, -7.219353199005127, -0.7659001350402832, 2.2723073959350586, -12.100591659545898, 0.217118501663208], [-190.88275146484375, 135.42083740234375, -31.51664924621582, 30.064231872558594, -69.34258270263672, 30.436262130737305, -56.083526611328125, -15.316060066223145, -16.722349166870117, 1.2809876203536987, -9.884056091308594, -20.502822875976562, -3.5870373249053955], [-207.81170654296875, 148.36880493164062, -37.037811279296875, 37.063602447509766, -56.117095947265625, 16.19550132751465, -35.421043395996094, -21.73065948486328, -18.389490127563477, 2.5057411193847656, -17.75062370300293, -18.73059844970703, -5.083065509796143], [-245.4512939453125, 137.54977416992188, -36.500579833984375, 54.88190841674805, -53.14923095703125, 13.605981826782227, -8.012560844421387, -28.28583526611328, -8.899959564208984, -3.0852625370025635, -13.78553581237793, -14.101425170898438, -10.775411605834961], [-236.1332244873047, 140.26885986328125, -4.87683629989624, 55.43954086303711, -48.025421142578125, 16.675363540649414, 1.0351996421813965, -34.397491455078125, -10.365550994873047, -0.5815303325653076, -10.888479232788086, -3.4156363010406494, -5.683342933654785]])\n",
        "\n",
        "        # we need a 4-dim array to feed to the model for prediction: (# samples, # time steps, # coefficients, 1)\n",
        "        MFCCs = MFCCs[np.newaxis, ..., np.newaxis]\n",
        "\n",
        "        # get the predicted label\n",
        "        predictions = self.model.predict(MFCCs) # a 2d array [[]]\n",
        "        predicted_index = np.argmax(predictions)\n",
        "        # index return the index which has highest score\n",
        "        predicted_keyword = self._mapping[predicted_index]\n",
        "        # print('prediction',predicted_index,predicted_keyword)\n",
        "        return predicted_keyword\n",
        "\n",
        "\n",
        "    def preprocess(self, file_path, num_mfcc=13, n_fft=2048, hop_length=512,num_segments=5):\n",
        "        mfcc_lst = []\n",
        "        # we divide the track into 5 segments\n",
        "        # to calculate sample per segment - we need to know the number of samples per track (which is the sample rate * the track duration )\n",
        "        samples_per_segment = int(SAMPLES_PER_TRACK / num_segments)\n",
        "        num_mfcc_vectors_per_segment = math.ceil(samples_per_segment / hop_length)\n",
        "\n",
        "        signal, sample_rate = librosa.load(file_path, sr=SAMPLE_RATE)\n",
        "\n",
        "        # process all segments of audio file\n",
        "        for d in range(num_segments):\n",
        "\n",
        "            # calculate start and finish sample for current segment\n",
        "            start = samples_per_segment * d\n",
        "            finish = start + samples_per_segment\n",
        "\n",
        "            # extract mfcc - for each segment of signal\n",
        "            mfcc = librosa.feature.mfcc(signal[start:finish], sample_rate, n_mfcc=num_mfcc, n_fft=n_fft, hop_length=hop_length)\n",
        "            mfcc = mfcc.T\n",
        "\n",
        "            # store only mfcc feature with expected number of vectors\n",
        "            if len(mfcc) == num_mfcc_vectors_per_segment:\n",
        "                mfcc_lst.append(mfcc.tolist())\n",
        "        return mfcc_lst\n",
        "\n",
        "\n",
        "def Keyword_Spotting_Service():\n",
        "    \"\"\"Factory function for Keyword_Spotting_Service class.\n",
        "\n",
        "    :return _Keyword_Spotting_Service._instance (_Keyword_Spotting_Service):\n",
        "    \"\"\"\n",
        "\n",
        "    # ensure an instance is created only the first time the factory function is called\n",
        "    if _Keyword_Spotting_Service._instance is None:\n",
        "        _Keyword_Spotting_Service._instance = _Keyword_Spotting_Service()\n",
        "        _Keyword_Spotting_Service.model = tf.keras.models.load_model(SAVED_MODEL_PATH)\n",
        "    return _Keyword_Spotting_Service._instance\n",
        "\n",
        "\n",
        "\n",
        "\n",
        "if __name__ == \"__main__\":\n",
        "\n",
        "    # create 2 instances of the keyword spotting service\n",
        "    kss = Keyword_Spotting_Service()\n",
        "    kss1 = Keyword_Spotting_Service()\n",
        "\n",
        "    # check that different instances of the keyword spotting service point back to the same object (singleton)\n",
        "    assert kss is kss1\n",
        "\n",
        "    # make a prediction\n",
        "    keyword = kss.predict(\"003.wav\")\n",
        "    print(keyword)"
      ],
      "metadata": {
        "colab": {
          "base_uri": "https://localhost:8080/"
        },
        "id": "q9U0v9aqn0HH",
        "outputId": "43cc2d83-cd18-4ba4-f4e2-e1e7e5478615"
      },
      "execution_count": null,
      "outputs": [
        {
          "output_type": "stream",
          "name": "stdout",
          "text": [
            "1/1 [==============================] - 0s 318ms/step\n",
            "Alhamdu\n"
          ]
        }
      ]
    },
    {
      "cell_type": "code",
      "source": [
        "import json\n",
        "with open(\"/content/drive/MyDrive/FYP-Code/data_surah_1.json\") as fp:\n",
        "    data = json.load(fp)\n",
        "    print(len(data['mfcc'][0][0]))"
      ],
      "metadata": {
        "id": "-B19MgJooI3F",
        "outputId": "54c76bf7-70d8-4a28-9b0d-16257732fdf6",
        "colab": {
          "base_uri": "https://localhost:8080/"
        }
      },
      "execution_count": 18,
      "outputs": [
        {
          "output_type": "stream",
          "name": "stdout",
          "text": [
            "13\n"
          ]
        }
      ]
    },
    {
      "cell_type": "code",
      "source": [
        "import json\n",
        "with open(\"/content/drive/MyDrive/FYP-Code/data_spect_mfcc.json\") as fp:\n",
        "    data = json.load(fp)\n",
        "    print(len(data['MFCCs'][0]))"
      ],
      "metadata": {
        "id": "p3dC21aLSYAM",
        "outputId": "7b2bbabe-678b-44cb-c6f0-1ed39ce58519",
        "colab": {
          "base_uri": "https://localhost:8080/"
        }
      },
      "execution_count": 20,
      "outputs": [
        {
          "output_type": "stream",
          "name": "stdout",
          "text": [
            "13\n"
          ]
        }
      ]
    },
    {
      "cell_type": "code",
      "source": [],
      "metadata": {
        "id": "CM2o0HJWSwwO"
      },
      "execution_count": null,
      "outputs": []
    }
  ]
}